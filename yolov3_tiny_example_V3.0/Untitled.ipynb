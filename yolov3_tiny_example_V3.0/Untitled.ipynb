{
 "cells": [
  {
   "cell_type": "code",
   "execution_count": 1,
   "id": "aa12c3d7-b419-48eb-a547-5a0c63db8854",
   "metadata": {},
   "outputs": [],
   "source": [
    "from quantize_train import *"
   ]
  },
  {
   "cell_type": "code",
   "execution_count": 2,
   "id": "95063594-3f4a-49bb-858d-4bd20307e5cf",
   "metadata": {},
   "outputs": [],
   "source": [
    "device = \"cuda:0\"\n",
    "model = Model(\"models/yolov3-tiny.yaml\", ch=3, nc=20).to(device)  # create"
   ]
  },
  {
   "cell_type": "code",
   "execution_count": 3,
   "id": "ba7775ef-1627-4eb1-8ee5-7c0269930dc6",
   "metadata": {},
   "outputs": [
    {
     "name": "stdout",
     "output_type": "stream",
     "text": [
      "Start convert pytorch to quantize, QCONFIG is:\n",
      "[{'activation': functools.partial(<class 'qqquantize.observers.fake_quantize.FakeQuantize'>, observer=<class 'qqquantize.observers.minmaxobserver.MovingAverageMinMaxObserver'>, quantize_func=<class 'qqquantize.observers.fake_quantize.Fake_quantize_per_tensor'>, bits=16), 'weight': functools.partial(<class 'qqquantize.observers.fake_quantize.FakeQuantize'>, observer=<class 'qqquantize.observers.minmaxobserver.MinMaxObserver'>, quantize_func=<class 'qqquantize.observers.fake_quantize.Fake_quantize_per_tensor'>, bits=16), 'bias': functools.partial(<class 'qqquantize.observers.fake_quantize.FakeQuantize'>, bits=16)}]\n",
      "QMAP is:\n",
      "[{<class 'torch.nn.modules.linear.Linear'>: <class 'qqquantize.qmodules.qlinear.QLinear'>, <class 'torch.nn.modules.conv.Conv2d'>: <class 'qqquantize.qmodules.qconv.QConv2d'>, <class 'torch.nn.modules.conv.ConvTranspose2d'>: <class 'qqquantize.qmodules.qconvtranspose.QConvTranspose2d'>, <class 'torch.nn.modules.batchnorm.BatchNorm2d'>: <class 'qqquantize.qmodules.qbatchnorm.QBatchNorm2d'>, <class 'torch.nn.modules.activation.ReLU'>: <class 'qqquantize.qmodules.qrelu.QReLU'>, <class 'qqquantize.qmodules.qstub.InputStub'>: <class 'qqquantize.qmodules.qstub.QStub'>}]\n",
      "\n"
     ]
    }
   ],
   "source": [
    "model = torch2quant(model)"
   ]
  },
  {
   "cell_type": "code",
   "execution_count": 4,
   "id": "589cdebe-fd0e-4bf5-bc50-df3a2838b14e",
   "metadata": {},
   "outputs": [],
   "source": [
    "model.eval()\n",
    "disable_fake_quant(model)\n",
    "enable_observer(model)\n",
    "\n",
    "inp = torch.rand(1, 3, 416, 416).to(device)\n",
    "_ = model(inp)\n",
    "\n",
    "calc_qparams(model)\n",
    "# swap_minmax_to_hist(model)\n",
    "enable_observer(model)\n",
    "enable_fake_quant(model)"
   ]
  },
  {
   "cell_type": "code",
   "execution_count": 5,
   "id": "f9705dfc-7484-47df-978f-df0b556a0829",
   "metadata": {},
   "outputs": [
    {
     "name": "stdout",
     "output_type": "stream",
     "text": [
      "tensor([7.62939e-06], device='cuda:0')\n",
      "tensor([3.81470e-06], device='cuda:0')\n",
      "tensor([1.90735e-06], device='cuda:0')\n",
      "tensor([1.90735e-06], device='cuda:0')\n",
      "tensor([9.53674e-07], device='cuda:0')\n",
      "tensor([9.53674e-07], device='cuda:0')\n",
      "tensor([4.76837e-07], device='cuda:0')\n",
      "tensor([9.53674e-07], device='cuda:0')\n",
      "tensor([9.53674e-07], device='cuda:0')\n",
      "tensor([1.90735e-06], device='cuda:0')\n",
      "tensor([9.53674e-07], device='cuda:0')\n",
      "tensor([1.90735e-06], device='cuda:0')\n",
      "tensor([1.90735e-06], device='cuda:0')\n"
     ]
    }
   ],
   "source": [
    "for name, mod in model.named_modules():\n",
    "    if isinstance(mod, qm.QConv2d):\n",
    "        print(mod.weight_quant.scale)"
   ]
  },
  {
   "cell_type": "code",
   "execution_count": 6,
   "id": "f6906240-494c-4ac5-8fb1-bf6909d28a52",
   "metadata": {},
   "outputs": [],
   "source": [
    "for name, mod in model.named_modules():\n",
    "    if isinstance(mod, qm.QConv2d):\n",
    "        mod.weight_quant.scale.fill_(3.1415926)"
   ]
  },
  {
   "cell_type": "code",
   "execution_count": 7,
   "id": "375d9bd3-20d2-4a63-ac30-79f23e646136",
   "metadata": {},
   "outputs": [
    {
     "name": "stdout",
     "output_type": "stream",
     "text": [
      "tensor([3.14159], device='cuda:0')\n",
      "tensor([3.14159], device='cuda:0')\n",
      "tensor([3.14159], device='cuda:0')\n",
      "tensor([3.14159], device='cuda:0')\n",
      "tensor([3.14159], device='cuda:0')\n",
      "tensor([3.14159], device='cuda:0')\n",
      "tensor([3.14159], device='cuda:0')\n",
      "tensor([3.14159], device='cuda:0')\n",
      "tensor([3.14159], device='cuda:0')\n",
      "tensor([3.14159], device='cuda:0')\n",
      "tensor([3.14159], device='cuda:0')\n",
      "tensor([3.14159], device='cuda:0')\n",
      "tensor([3.14159], device='cuda:0')\n"
     ]
    }
   ],
   "source": [
    "for name, mod in model.named_modules():\n",
    "    if isinstance(mod, qm.QConv2d):\n",
    "        print(mod.weight_quant.scale)"
   ]
  },
  {
   "cell_type": "code",
   "execution_count": 57,
   "id": "df63d80a-4f4f-4057-8784-7b43e36bbeb0",
   "metadata": {},
   "outputs": [],
   "source": [
    "from quantize_utils import load_yolo_from_q_ckpt"
   ]
  },
  {
   "cell_type": "code",
   "execution_count": 80,
   "id": "ff8b90c8-56d8-495b-b4f8-a61159e3f34a",
   "metadata": {},
   "outputs": [
    {
     "name": "stdout",
     "output_type": "stream",
     "text": [
      "Start convert pytorch to quantize, QCONFIG is:\n",
      "[{'activation': functools.partial(<class 'qqquantize.observers.fake_quantize.FakeQuantize'>, observer=<class 'qqquantize.observers.minmaxobserver.MovingAverageMinMaxObserver'>, quantize_func=<class 'qqquantize.observers.fake_quantize.Fake_quantize_per_tensor'>, bits=16), 'weight': functools.partial(<class 'qqquantize.observers.fake_quantize.FakeQuantize'>, observer=<class 'qqquantize.observers.minmaxobserver.MinMaxObserver'>, quantize_func=<class 'qqquantize.observers.fake_quantize.Fake_quantize_per_tensor'>, bits=16), 'bias': functools.partial(<class 'qqquantize.observers.fake_quantize.FakeQuantize'>, bits=16)}]\n",
      "QMAP is:\n",
      "[{<class 'torch.nn.modules.linear.Linear'>: <class 'qqquantize.qmodules.qlinear.QLinear'>, <class 'torch.nn.modules.conv.Conv2d'>: <class 'qqquantize.qmodules.qconv.QConv2d'>, <class 'torch.nn.modules.conv.ConvTranspose2d'>: <class 'qqquantize.qmodules.qconvtranspose.QConvTranspose2d'>, <class 'torch.nn.modules.batchnorm.BatchNorm2d'>: <class 'qqquantize.qmodules.qbatchnorm.QBatchNorm2d'>, <class 'torch.nn.modules.activation.ReLU'>: <class 'qqquantize.qmodules.qrelu.QReLU'>, <class 'qqquantize.qmodules.qstub.InputStub'>: <class 'qqquantize.qmodules.qstub.QStub'>, <class 'models.common.Concat'>: <class 'qqquantize.qmodules.qconcat.QConcat'>}]\n",
      "\n",
      "load_yolo_from_q_ckpt finished, getting quant model...\n"
     ]
    }
   ],
   "source": [
    "model = load_yolo_from_q_ckpt(\"runs/train/q_maTact_mmTwt_concatfix_16bit_IP2_adjust1417/weights/best.pt\", cfg=\"models/yolov3-tiny.yaml\")"
   ]
  },
  {
   "cell_type": "code",
   "execution_count": 81,
   "id": "b893e41d-c6d1-42a9-809e-e9c3f79a0fbe",
   "metadata": {},
   "outputs": [
    {
     "data": {
      "text/plain": [
       "tensor([3.05176e-05], device='cuda:0')"
      ]
     },
     "execution_count": 81,
     "metadata": {},
     "output_type": "execute_result"
    }
   ],
   "source": [
    "model.state_dict()['module.model.14.conv.weight_quant.scale']"
   ]
  },
  {
   "cell_type": "code",
   "execution_count": 82,
   "id": "759ef2fa-d86c-402e-a2bc-1aefdccbe1a6",
   "metadata": {},
   "outputs": [
    {
     "data": {
      "text/plain": [
       "tensor([-6.00046])"
      ]
     },
     "execution_count": 82,
     "metadata": {},
     "output_type": "execute_result"
    }
   ],
   "source": [
    "import torch\n",
    "\n",
    "torch.log2(torch.tensor([0.01562]))"
   ]
  },
  {
   "cell_type": "code",
   "execution_count": 83,
   "id": "d5822d88-9a1e-4aa9-9f5b-ce6cb7d7fbdb",
   "metadata": {},
   "outputs": [
    {
     "name": "stdout",
     "output_type": "stream",
     "text": [
      "module.model.14.conv.weight\n",
      "module.model.14.conv.act_quant.fake_quant_enabled\n",
      "module.model.14.conv.act_quant.observer_enabled\n",
      "module.model.14.conv.act_quant.calc_qparams\n",
      "module.model.14.conv.act_quant.scale\n",
      "module.model.14.conv.act_quant.zero_point\n",
      "module.model.14.conv.act_quant.observer.bits\n",
      "module.model.14.conv.act_quant.observer.max_factor\n",
      "module.model.14.conv.act_quant.observer.min_val\n",
      "module.model.14.conv.act_quant.observer.max_val\n",
      "module.model.14.conv.weight_quant.fake_quant_enabled\n",
      "module.model.14.conv.weight_quant.observer_enabled\n",
      "module.model.14.conv.weight_quant.calc_qparams\n",
      "module.model.14.conv.weight_quant.scale\n",
      "module.model.14.conv.weight_quant.zero_point\n",
      "module.model.14.conv.weight_quant.observer.bits\n",
      "module.model.14.conv.weight_quant.observer.max_factor\n",
      "module.model.14.conv.weight_quant.observer.min_val\n",
      "module.model.14.conv.weight_quant.observer.max_val\n"
     ]
    }
   ],
   "source": [
    "for k in model.state_dict().keys():\n",
    "    if \"module.model.14.conv\" in k:\n",
    "        print(k)"
   ]
  },
  {
   "cell_type": "code",
   "execution_count": 95,
   "id": "fce1ce3a-deb1-47af-83e7-7217e96c2898",
   "metadata": {},
   "outputs": [],
   "source": [
    "def ppp(state, conv_name):\n",
    "#     wt = model.state_dict()['module.model.8.conv.weight'] \n",
    "#     sc = model.state_dict()['module.model.8.conv.weight_quant.scale']\n",
    "    wt = state[conv_name]\n",
    "    sc = state[conv_name + \"_quant.scale\"]\n",
    "    miv = state[conv_name + \"_quant.observer.min_val\"]\n",
    "    mav = state[conv_name + \"_quant.observer.max_val\"]\n",
    "    \n",
    "    print(miv)\n",
    "    print(mav)\n",
    "    print(state[conv_name + \"_quant.observer.bits\"])\n",
    "    print(state[conv_name + \"_quant.observer.max_factor\"])\n",
    "    \n",
    "    \n",
    "    print(torch.min(wt))\n",
    "    print(torch.max(wt))\n",
    "    print(sc, torch.log2(sc))\n",
    "\n",
    "    qwt = torch.floor(wt / sc)\n",
    "    print(torch.min(qwt))\n",
    "    print(torch.max(qwt))\n",
    "    print(\"#-\"*40)"
   ]
  },
  {
   "cell_type": "code",
   "execution_count": 96,
   "id": "c4570fff-a53b-492f-9918-29b12984d83c",
   "metadata": {},
   "outputs": [
    {
     "name": "stdout",
     "output_type": "stream",
     "text": [
      "module.model.0.conv.weight\n",
      "tensor(-1.23662, device='cuda:0')\n",
      "tensor(1.14967, device='cuda:0')\n",
      "tensor([16], device='cuda:0', dtype=torch.int32)\n",
      "tensor([1.], device='cuda:0')\n",
      "tensor(-1.23556, device='cuda:0')\n",
      "tensor(1.14859, device='cuda:0')\n",
      "tensor([6.10352e-05], device='cuda:0') tensor([-14.], device='cuda:0')\n",
      "tensor(-20244., device='cuda:0')\n",
      "tensor(18818., device='cuda:0')\n",
      "#-#-#-#-#-#-#-#-#-#-#-#-#-#-#-#-#-#-#-#-#-#-#-#-#-#-#-#-#-#-#-#-#-#-#-#-#-#-#-#-\n",
      "module.model.2.conv.weight\n",
      "tensor(-1.41611, device='cuda:0')\n",
      "tensor(0.97086, device='cuda:0')\n",
      "tensor([16], device='cuda:0', dtype=torch.int32)\n",
      "tensor([1.], device='cuda:0')\n",
      "tensor(-1.41588, device='cuda:0')\n",
      "tensor(0.96995, device='cuda:0')\n",
      "tensor([6.10352e-05], device='cuda:0') tensor([-14.], device='cuda:0')\n",
      "tensor(-23198., device='cuda:0')\n",
      "tensor(15891., device='cuda:0')\n",
      "#-#-#-#-#-#-#-#-#-#-#-#-#-#-#-#-#-#-#-#-#-#-#-#-#-#-#-#-#-#-#-#-#-#-#-#-#-#-#-#-\n",
      "module.model.4.conv.weight\n",
      "tensor(-0.58740, device='cuda:0')\n",
      "tensor(0.76104, device='cuda:0')\n",
      "tensor([16], device='cuda:0', dtype=torch.int32)\n",
      "tensor([1.], device='cuda:0')\n",
      "tensor(-0.58362, device='cuda:0')\n",
      "tensor(0.75895, device='cuda:0')\n",
      "tensor([3.05176e-05], device='cuda:0') tensor([-15.], device='cuda:0')\n",
      "tensor(-19124., device='cuda:0')\n",
      "tensor(24869., device='cuda:0')\n",
      "#-#-#-#-#-#-#-#-#-#-#-#-#-#-#-#-#-#-#-#-#-#-#-#-#-#-#-#-#-#-#-#-#-#-#-#-#-#-#-#-\n",
      "module.model.6.conv.weight\n",
      "tensor(-0.43140, device='cuda:0')\n",
      "tensor(0.81191, device='cuda:0')\n",
      "tensor([16], device='cuda:0', dtype=torch.int32)\n",
      "tensor([1.], device='cuda:0')\n",
      "tensor(-0.43124, device='cuda:0')\n",
      "tensor(0.81186, device='cuda:0')\n",
      "tensor([3.05176e-05], device='cuda:0') tensor([-15.], device='cuda:0')\n",
      "tensor(-14131., device='cuda:0')\n",
      "tensor(26603., device='cuda:0')\n",
      "#-#-#-#-#-#-#-#-#-#-#-#-#-#-#-#-#-#-#-#-#-#-#-#-#-#-#-#-#-#-#-#-#-#-#-#-#-#-#-#-\n",
      "module.model.8.conv.weight\n",
      "tensor(-0.36830, device='cuda:0')\n",
      "tensor(0.77785, device='cuda:0')\n",
      "tensor([16], device='cuda:0', dtype=torch.int32)\n",
      "tensor([1.], device='cuda:0')\n",
      "tensor(-0.36824, device='cuda:0')\n",
      "tensor(0.77739, device='cuda:0')\n",
      "tensor([3.05176e-05], device='cuda:0') tensor([-15.], device='cuda:0')\n",
      "tensor(-12067., device='cuda:0')\n",
      "tensor(25473., device='cuda:0')\n",
      "#-#-#-#-#-#-#-#-#-#-#-#-#-#-#-#-#-#-#-#-#-#-#-#-#-#-#-#-#-#-#-#-#-#-#-#-#-#-#-#-\n",
      "module.model.10.conv.weight\n",
      "tensor(-0.28589, device='cuda:0')\n",
      "tensor(0.75000, device='cuda:0')\n",
      "tensor([16], device='cuda:0', dtype=torch.int32)\n",
      "tensor([1.], device='cuda:0')\n",
      "tensor(-0.28585, device='cuda:0')\n",
      "tensor(0.74872, device='cuda:0')\n",
      "tensor([3.05176e-05], device='cuda:0') tensor([-15.], device='cuda:0')\n",
      "tensor(-9367., device='cuda:0')\n",
      "tensor(24534., device='cuda:0')\n",
      "#-#-#-#-#-#-#-#-#-#-#-#-#-#-#-#-#-#-#-#-#-#-#-#-#-#-#-#-#-#-#-#-#-#-#-#-#-#-#-#-\n",
      "module.model.13.conv.weight\n",
      "tensor(-0.51172, device='cuda:0')\n",
      "tensor(0.43994, device='cuda:0')\n",
      "tensor([16], device='cuda:0', dtype=torch.int32)\n",
      "tensor([1.], device='cuda:0')\n",
      "tensor(-0.51160, device='cuda:0')\n",
      "tensor(0.43928, device='cuda:0')\n",
      "tensor([3.05176e-05], device='cuda:0') tensor([-15.], device='cuda:0')\n",
      "tensor(-16765., device='cuda:0')\n",
      "tensor(14394., device='cuda:0')\n",
      "#-#-#-#-#-#-#-#-#-#-#-#-#-#-#-#-#-#-#-#-#-#-#-#-#-#-#-#-#-#-#-#-#-#-#-#-#-#-#-#-\n",
      "module.model.14.conv.weight\n",
      "tensor(-0.69634, device='cuda:0')\n",
      "tensor(0.41873, device='cuda:0')\n",
      "tensor([16], device='cuda:0', dtype=torch.int32)\n",
      "tensor([1.], device='cuda:0')\n",
      "tensor(-0.69514, device='cuda:0')\n",
      "tensor(0.41805, device='cuda:0')\n",
      "tensor([3.05176e-05], device='cuda:0') tensor([-15.], device='cuda:0')\n",
      "tensor(-22779., device='cuda:0')\n",
      "tensor(13698., device='cuda:0')\n",
      "#-#-#-#-#-#-#-#-#-#-#-#-#-#-#-#-#-#-#-#-#-#-#-#-#-#-#-#-#-#-#-#-#-#-#-#-#-#-#-#-\n",
      "module.model.15.conv.weight\n",
      "tensor(-0.27173, device='cuda:0')\n",
      "tensor(0.23272, device='cuda:0')\n",
      "tensor([16], device='cuda:0', dtype=torch.int32)\n",
      "tensor([1.], device='cuda:0')\n",
      "tensor(-0.27165, device='cuda:0')\n",
      "tensor(0.23270, device='cuda:0')\n",
      "tensor([1.52588e-05], device='cuda:0') tensor([-16.], device='cuda:0')\n",
      "tensor(-17803., device='cuda:0')\n",
      "tensor(15250., device='cuda:0')\n",
      "#-#-#-#-#-#-#-#-#-#-#-#-#-#-#-#-#-#-#-#-#-#-#-#-#-#-#-#-#-#-#-#-#-#-#-#-#-#-#-#-\n",
      "module.model.16.conv.weight\n",
      "tensor(-0.37819, device='cuda:0')\n",
      "tensor(0.44073, device='cuda:0')\n",
      "tensor([16], device='cuda:0', dtype=torch.int32)\n",
      "tensor([1.], device='cuda:0')\n",
      "tensor(-0.37754, device='cuda:0')\n",
      "tensor(0.44037, device='cuda:0')\n",
      "tensor([1.52588e-05], device='cuda:0') tensor([-16.], device='cuda:0')\n",
      "tensor(-24743., device='cuda:0')\n",
      "tensor(28860., device='cuda:0')\n",
      "#-#-#-#-#-#-#-#-#-#-#-#-#-#-#-#-#-#-#-#-#-#-#-#-#-#-#-#-#-#-#-#-#-#-#-#-#-#-#-#-\n",
      "module.model.19.conv.weight\n",
      "tensor(-0.35523, device='cuda:0')\n",
      "tensor(0.35352, device='cuda:0')\n",
      "tensor([16], device='cuda:0', dtype=torch.int32)\n",
      "tensor([1.], device='cuda:0')\n",
      "tensor(-0.35501, device='cuda:0')\n",
      "tensor(0.35334, device='cuda:0')\n",
      "tensor([1.52588e-05], device='cuda:0') tensor([-16.], device='cuda:0')\n",
      "tensor(-23266., device='cuda:0')\n",
      "tensor(23156., device='cuda:0')\n",
      "#-#-#-#-#-#-#-#-#-#-#-#-#-#-#-#-#-#-#-#-#-#-#-#-#-#-#-#-#-#-#-#-#-#-#-#-#-#-#-#-\n"
     ]
    }
   ],
   "source": [
    "for k in model.state_dict().keys():\n",
    "#     print(k)\n",
    "    if k.endswith(\".conv.weight\"):\n",
    "        print(k)\n",
    "        ppp(model.state_dict(), k)"
   ]
  },
  {
   "cell_type": "code",
   "execution_count": 86,
   "id": "0e3b6934-1348-4d6b-bb24-dba463bed344",
   "metadata": {},
   "outputs": [
    {
     "data": {
      "text/plain": [
       "32768"
      ]
     },
     "execution_count": 86,
     "metadata": {},
     "output_type": "execute_result"
    }
   ],
   "source": [
    "2 ** 15"
   ]
  },
  {
   "cell_type": "code",
   "execution_count": null,
   "id": "64163b7e-f0d5-44f3-baeb-9246b1c029c2",
   "metadata": {},
   "outputs": [],
   "source": []
  }
 ],
 "metadata": {
  "kernelspec": {
   "display_name": "Python 3",
   "language": "python",
   "name": "python3"
  },
  "language_info": {
   "codemirror_mode": {
    "name": "ipython",
    "version": 3
   },
   "file_extension": ".py",
   "mimetype": "text/x-python",
   "name": "python",
   "nbconvert_exporter": "python",
   "pygments_lexer": "ipython3",
   "version": "3.7.7"
  }
 },
 "nbformat": 4,
 "nbformat_minor": 5
}
